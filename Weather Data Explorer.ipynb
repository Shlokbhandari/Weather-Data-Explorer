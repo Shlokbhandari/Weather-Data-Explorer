{
 "cells": [
  {
   "cell_type": "code",
   "execution_count": 2,
   "id": "cfbb3e7e-826c-44f4-b8e9-ccc64f4be746",
   "metadata": {},
   "outputs": [],
   "source": [
    "import pandas as pd"
   ]
  },
  {
   "cell_type": "code",
   "execution_count": 5,
   "id": "cd24b534-0d6e-4432-82ca-41352e6290e7",
   "metadata": {},
   "outputs": [
    {
     "name": "stdout",
     "output_type": "stream",
     "text": [
      "Hottest day: 2011-03-16 with 41.3°C\n",
      "Coldest day: 2008-02-08 with 8.5°C\n",
      "Day with most Rain: 2005-07-26 with 461.0\n"
     ]
    }
   ],
   "source": [
    "df = pd.read_csv(\"Mumbai_1990_2022_Santacruz.csv\")\n",
    "df['time'] = pd.to_datetime(df['time'], format=\"%d-%m-%Y\")\n",
    "df.set_index('time',inplace = True)\n",
    "\n",
    "tmax = df['tmax'].max()\n",
    "tmax_date = df['tmax'].idxmax()\n",
    "\n",
    "tmin = df['tmin'].min()\n",
    "tmin_date = df['tmin'].idxmin()\n",
    "\n",
    "maxprcp = df['prcp'].max()\n",
    "maxprcp_date = df['prcp'].idxmax()\n",
    "\n",
    "print(f\"Hottest day: {tmax_date.date()} with {tmax}°C\")\n",
    "print(f\"Coldest day: {tmin_date.date()} with {tmin}°C\")\n",
    "print(f\"Day with most Rain: {maxprcp_date.date()} with {maxprcp}\")"
   ]
  },
  {
   "cell_type": "code",
   "execution_count": null,
   "id": "7e682608-27de-489f-ae97-b494315dbf83",
   "metadata": {},
   "outputs": [],
   "source": []
  }
 ],
 "metadata": {
  "kernelspec": {
   "display_name": "Python 3 (ipykernel)",
   "language": "python",
   "name": "python3"
  },
  "language_info": {
   "codemirror_mode": {
    "name": "ipython",
    "version": 3
   },
   "file_extension": ".py",
   "mimetype": "text/x-python",
   "name": "python",
   "nbconvert_exporter": "python",
   "pygments_lexer": "ipython3",
   "version": "3.13.5"
  }
 },
 "nbformat": 4,
 "nbformat_minor": 5
}
