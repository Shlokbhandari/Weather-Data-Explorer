import pandas as pd


df = pd.read_csv("Mumbai_1990_2022_Santacruz.csv")
df['time'] = pd.to_datetime(df['time'], format="%d-%m-%Y")
df.set_index('time',inplace = True)

tmax = df['tmax'].max()
tmax_date = df['tmax'].idxmax()

tmin = df['tmin'].min()
tmin_date = df['tmin'].idxmin()

maxprcp = df['prcp'].max()
maxprcp_date = df['prcp'].idxmax()

print(f"Hottest day: {tmax_date.date()} with {tmax}°C")
print(f"Coldest day: {tmin_date.date()} with {tmin}°C")
print(f"Day with most Rain: {maxprcp_date.date()} with {maxprcp}")



